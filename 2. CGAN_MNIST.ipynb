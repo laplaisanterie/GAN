{
  "nbformat": 4,
  "nbformat_minor": 0,
  "metadata": {
    "colab": {
      "name": "7. CGAN_MNIST.ipynb",
      "version": "0.3.2",
      "provenance": [],
      "collapsed_sections": [],
      "include_colab_link": true
    },
    "kernelspec": {
      "name": "python3",
      "display_name": "Python 3"
    },
    "accelerator": "GPU"
  },
  "cells": [
    {
      "cell_type": "markdown",
      "metadata": {
        "id": "view-in-github",
        "colab_type": "text"
      },
      "source": [
        "<a href=\"https://colab.research.google.com/github/laplaisanterie/GAN/blob/master/2.%20CGAN_MNIST.ipynb\" target=\"_parent\"><img src=\"https://colab.research.google.com/assets/colab-badge.svg\" alt=\"Open In Colab\"/></a>"
      ]
    },
    {
      "cell_type": "code",
      "metadata": {
        "id": "YqeZJ3JsmXhf",
        "colab_type": "code",
        "colab": {}
      },
      "source": [
        "from google.colab import drive\n",
        "drive.mount('/content/gdrive')"
      ],
      "execution_count": 0,
      "outputs": []
    },
    {
      "cell_type": "code",
      "metadata": {
        "id": "RpiDAz73mdCp",
        "colab_type": "code",
        "colab": {}
      },
      "source": [
        "cd gdrive/My Drive/DL"
      ],
      "execution_count": 0,
      "outputs": []
    },
    {
      "cell_type": "code",
      "metadata": {
        "id": "gHJHh9msTOTW",
        "colab_type": "code",
        "colab": {}
      },
      "source": [
        "!pip install tensorboardX"
      ],
      "execution_count": 0,
      "outputs": []
    },
    {
      "cell_type": "code",
      "metadata": {
        "id": "FqI73zt0TEuW",
        "colab_type": "code",
        "colab": {}
      },
      "source": [
        "%matplotlib inline\n",
        "import matplotlib.pyplot as plt\n",
        "import numpy as np\n",
        "\n",
        "import torch\n",
        "import torch.nn as nn\n",
        "from torchvision.datasets import ImageFolder, MNIST\n",
        "from torchvision import transforms\n",
        "from torch import autograd\n",
        "from torch.autograd import Variable\n",
        "from torchvision.utils import make_grid\n",
        "from tensorboardX import SummaryWriter"
      ],
      "execution_count": 0,
      "outputs": []
    },
    {
      "cell_type": "code",
      "metadata": {
        "id": "auIrY36HTKS3",
        "colab_type": "code",
        "colab": {}
      },
      "source": [
        "transform = transforms.Compose([\n",
        "        transforms.ToTensor(),\n",
        "        transforms.Normalize(mean=(0.5,), std=(0.5,))\n",
        "])"
      ],
      "execution_count": 0,
      "outputs": []
    },
    {
      "cell_type": "code",
      "metadata": {
        "id": "D59e7PyLTToj",
        "colab_type": "code",
        "colab": {}
      },
      "source": [
        "batch_size = 32\n",
        "data_loader = torch.utils.data.DataLoader(MNIST('data', train=True, download=True, transform=transform),\n",
        "                                          batch_size=batch_size, shuffle=True)"
      ],
      "execution_count": 0,
      "outputs": []
    },
    {
      "cell_type": "code",
      "metadata": {
        "id": "j6PRzbL5TXcS",
        "colab_type": "code",
        "colab": {}
      },
      "source": [
        "class Discriminator(nn.Module):\n",
        "    def __init__(self):\n",
        "        super().__init__()\n",
        "        \n",
        "        self.label_emb = nn.Embedding(10, 10)\n",
        "        \n",
        "        self.model = nn.Sequential(\n",
        "            nn.Linear(794, 1024),\n",
        "            nn.LeakyReLU(0.2, inplace=True),\n",
        "            nn.Dropout(0.3),\n",
        "            nn.Linear(1024, 512),\n",
        "            nn.LeakyReLU(0.2, inplace=True),\n",
        "            nn.Dropout(0.3),\n",
        "            nn.Linear(512, 256),\n",
        "            nn.LeakyReLU(0.2, inplace=True),\n",
        "            nn.Dropout(0.3),\n",
        "            nn.Linear(256, 1),\n",
        "            nn.Sigmoid()\n",
        "        )\n",
        "    \n",
        "    def forward(self, x, labels):\n",
        "        x = x.view(x.size(0), 784)\n",
        "        c = self.label_emb(labels)\n",
        "        x = torch.cat([x, c], 1)\n",
        "        out = self.model(x)\n",
        "        return out.squeeze()"
      ],
      "execution_count": 0,
      "outputs": []
    },
    {
      "cell_type": "code",
      "metadata": {
        "id": "7ahpr9-xTYlo",
        "colab_type": "code",
        "colab": {}
      },
      "source": [
        "class Generator(nn.Module):\n",
        "    def __init__(self):\n",
        "        super().__init__()\n",
        "        \n",
        "        self.label_emb = nn.Embedding(10, 10)\n",
        "        \n",
        "        self.model = nn.Sequential(\n",
        "            nn.Linear(110, 256),\n",
        "            nn.LeakyReLU(0.2, inplace=True),\n",
        "            nn.Linear(256, 512),\n",
        "            nn.LeakyReLU(0.2, inplace=True),\n",
        "            nn.Linear(512, 1024),\n",
        "            nn.LeakyReLU(0.2, inplace=True),\n",
        "            nn.Linear(1024, 784),\n",
        "            nn.Tanh()\n",
        "        )\n",
        "    \n",
        "    def forward(self, z, labels):\n",
        "        z = z.view(z.size(0), 100)\n",
        "        c = self.label_emb(labels)\n",
        "        x = torch.cat([z, c], 1)\n",
        "        out = self.model(x)\n",
        "        return out.view(x.size(0), 28, 28)"
      ],
      "execution_count": 0,
      "outputs": []
    },
    {
      "cell_type": "code",
      "metadata": {
        "id": "CjjxYTOsTm5K",
        "colab_type": "code",
        "colab": {}
      },
      "source": [
        "device = torch.device(\"cuda\" if torch.cuda.is_available() else \"cpu\")"
      ],
      "execution_count": 0,
      "outputs": []
    },
    {
      "cell_type": "code",
      "metadata": {
        "id": "xC28IHiHTZ2j",
        "colab_type": "code",
        "colab": {}
      },
      "source": [
        "generator = Generator().to(device)\n",
        "discriminator = Discriminator().to(device)"
      ],
      "execution_count": 0,
      "outputs": []
    },
    {
      "cell_type": "code",
      "metadata": {
        "id": "RclN-qf0Taxc",
        "colab_type": "code",
        "colab": {}
      },
      "source": [
        "criterion = nn.BCELoss()\n",
        "d_optimizer = torch.optim.Adam(discriminator.parameters(), lr=1e-4)\n",
        "g_optimizer = torch.optim.Adam(generator.parameters(), lr=1e-4)"
      ],
      "execution_count": 0,
      "outputs": []
    },
    {
      "cell_type": "code",
      "metadata": {
        "id": "e3-_T9k5Tz-O",
        "colab_type": "code",
        "colab": {}
      },
      "source": [
        "writer = SummaryWriter()"
      ],
      "execution_count": 0,
      "outputs": []
    },
    {
      "cell_type": "code",
      "metadata": {
        "id": "9bBbdICJT09G",
        "colab_type": "code",
        "colab": {}
      },
      "source": [
        "def generator_train_step(batch_size, discriminator, generator, g_optimizer, criterion):\n",
        "    g_optimizer.zero_grad()\n",
        "    z = Variable(torch.randn(batch_size, 100)).to(device)\n",
        "    fake_labels = Variable(torch.LongTensor(np.random.randint(0, 10, batch_size))).to(device)\n",
        "    fake_images = generator(z, fake_labels)\n",
        "    validity = discriminator(fake_images, fake_labels)\n",
        "    g_loss = criterion(validity, Variable(torch.ones(batch_size)).to(device))\n",
        "    g_loss.backward()\n",
        "    g_optimizer.step()\n",
        "    return g_loss.item()"
      ],
      "execution_count": 0,
      "outputs": []
    },
    {
      "cell_type": "code",
      "metadata": {
        "id": "51WFQ--bT2CY",
        "colab_type": "code",
        "colab": {}
      },
      "source": [
        "def discriminator_train_step(batch_size, discriminator, generator, d_optimizer, criterion, real_images, labels):\n",
        "    d_optimizer.zero_grad()\n",
        "\n",
        "    # train with real images\n",
        "    real_validity = discriminator(real_images, labels)\n",
        "    real_loss = criterion(real_validity, Variable(torch.ones(batch_size)).to(device))\n",
        "    \n",
        "    # train with fake images\n",
        "    z = Variable(torch.randn(batch_size, 100)).to(device)\n",
        "    fake_labels = Variable(torch.LongTensor(np.random.randint(0, 10, batch_size))).to(device)\n",
        "    fake_images = generator(z, fake_labels)\n",
        "    fake_validity = discriminator(fake_images, fake_labels)\n",
        "    fake_loss = criterion(fake_validity, Variable(torch.zeros(batch_size)).to(device))\n",
        "    \n",
        "    d_loss = real_loss + fake_loss\n",
        "    d_loss.backward()\n",
        "    d_optimizer.step()\n",
        "    return d_loss.item()"
      ],
      "execution_count": 0,
      "outputs": []
    },
    {
      "cell_type": "code",
      "metadata": {
        "id": "DGRBfBwdT3H0",
        "colab_type": "code",
        "colab": {}
      },
      "source": [
        "num_epochs = 50\n",
        "n_critic = 5\n",
        "display_step = 50\n",
        "for epoch in range(num_epochs):\n",
        "    print('Starting epoch {}...'.format(epoch), end=' ')\n",
        "    for i, (images, labels) in enumerate(data_loader):\n",
        "        \n",
        "        step = epoch * len(data_loader) + i + 1\n",
        "        real_images = Variable(images).to(device)\n",
        "        labels = Variable(labels).to(device)\n",
        "        generator.train()\n",
        "        \n",
        "        d_loss = discriminator_train_step(len(real_images), discriminator,\n",
        "                                          generator, d_optimizer, criterion,\n",
        "                                          real_images, labels)\n",
        "        \n",
        "\n",
        "        g_loss = generator_train_step(batch_size, discriminator, generator, g_optimizer, criterion)\n",
        "        \n",
        "        writer.add_scalars('scalars', {'g_loss': g_loss, 'd_loss': d_loss}, step)  \n",
        "        \n",
        "        if step % display_step == 0:\n",
        "            generator.eval()\n",
        "            z = Variable(torch.randn(9, 100)).to(device)\n",
        "            labels = Variable(torch.LongTensor(np.arange(9))).to(device)\n",
        "            sample_images = generator(z, labels).unsqueeze(1)\n",
        "            grid = make_grid(sample_images, nrow=3, normalize=True)\n",
        "            writer.add_image('sample_image', grid, step)\n",
        "    print('Done!')"
      ],
      "execution_count": 0,
      "outputs": []
    },
    {
      "cell_type": "code",
      "metadata": {
        "id": "pep3nY31T4ZN",
        "colab_type": "code",
        "colab": {}
      },
      "source": [
        "torch.save(generator.state_dict(), 'generator_state.pt')"
      ],
      "execution_count": 0,
      "outputs": []
    },
    {
      "cell_type": "code",
      "metadata": {
        "id": "CuvAjIdxUbPY",
        "colab_type": "code",
        "colab": {}
      },
      "source": [
        "z = Variable(torch.randn(100, 100)).to(device)\n",
        "labels = torch.LongTensor([i for i in range(10) for _ in range(10)]).to(device)"
      ],
      "execution_count": 0,
      "outputs": []
    },
    {
      "cell_type": "code",
      "metadata": {
        "id": "1Fqw8JWcUfU1",
        "colab_type": "code",
        "colab": {}
      },
      "source": [
        "images = generator(z, labels).unsqueeze(1)"
      ],
      "execution_count": 0,
      "outputs": []
    },
    {
      "cell_type": "code",
      "metadata": {
        "id": "bnGJmnYSUgf7",
        "colab_type": "code",
        "colab": {}
      },
      "source": [
        "grid = make_grid(images, nrow=10, normalize=True)"
      ],
      "execution_count": 0,
      "outputs": []
    },
    {
      "cell_type": "code",
      "metadata": {
        "id": "Z5wDisTRUhcs",
        "colab_type": "code",
        "outputId": "28e8034b-2411-4906-960f-d607cf2eb6b4",
        "colab": {
          "base_uri": "https://localhost:8080/",
          "height": 614
        }
      },
      "source": [
        "fig, ax = plt.subplots(figsize=(10,10))\n",
        "ax.imshow(grid.permute(1, 2, 0).data.detach().cpu(), cmap='binary')\n",
        "ax.axis('off')"
      ],
      "execution_count": 0,
      "outputs": [
        {
          "output_type": "execute_result",
          "data": {
            "text/plain": [
              "(-0.5, 301.5, 301.5, -0.5)"
            ]
          },
          "metadata": {
            "tags": []
          },
          "execution_count": 66
        },
        {
          "output_type": "display_data",
          "data": {
            "image/png": "[encoded data removed]",
            "text/plain": [
              "<Figure size 720x720 with 1 Axes>"
            ]
          },
          "metadata": {
            "tags": []
          }
        }
      ]
    },
    {
      "cell_type": "code",
      "metadata": {
        "id": "WmUzek_FUi-k",
        "colab_type": "code",
        "colab": {}
      },
      "source": [
        "def generate_digit(generator, digit):\n",
        "    z = Variable(torch.randn(1, 100)).to(device)\n",
        "    label = torch.LongTensor([digit]).to(device)\n",
        "    img = generator(z, label).data.to(device)\n",
        "    img = 0.5 * img + 0.5\n",
        "    return transforms.ToPILImage()(img.detach().cpu())"
      ],
      "execution_count": 0,
      "outputs": []
    },
    {
      "cell_type": "code",
      "metadata": {
        "id": "Dr6GeqfpUkm9",
        "colab_type": "code",
        "outputId": "4cdc1fac-3969-4f07-f1ad-361f59bdd0ba",
        "colab": {
          "base_uri": "https://localhost:8080/",
          "height": 45
        }
      },
      "source": [
        "generate_digit(generator, 0)"
      ],
      "execution_count": 0,
      "outputs": [
        {
          "output_type": "execute_result",
          "data": {
            "image/png": "[encoded data removed]",
            "text/plain": [
              "<PIL.Image.Image image mode=L size=28x28 at 0x7FB77FDBB550>"
            ]
          },
          "metadata": {
            "tags": []
          },
          "execution_count": 65
        }
      ]
    },
    {
      "cell_type": "code",
      "metadata": {
        "id": "PsAiAFNpFnw9",
        "colab_type": "code",
        "outputId": "763a0336-dd34-4daf-ca11-1f0171bf0bf7",
        "colab": {
          "base_uri": "https://localhost:8080/",
          "height": 45
        }
      },
      "source": [
        "generate_digit(generator, 1)"
      ],
      "execution_count": 0,
      "outputs": [
        {
          "output_type": "execute_result",
          "data": {
            "image/png": "[encoded data removed]",
            "text/plain": [
              "<PIL.Image.Image image mode=L size=28x28 at 0x7FB77FDBBFD0>"
            ]
          },
          "metadata": {
            "tags": []
          },
          "execution_count": 67
        }
      ]
    },
    {
      "cell_type": "code",
      "metadata": {
        "id": "rmijUIb6F9a9",
        "colab_type": "code",
        "outputId": "f7294983-5154-4e1e-f8d8-313056fe2bc8",
        "colab": {
          "base_uri": "https://localhost:8080/",
          "height": 45
        }
      },
      "source": [
        "generate_digit(generator, 2)"
      ],
      "execution_count": 0,
      "outputs": [
        {
          "output_type": "execute_result",
          "data": {
            "image/png": "[encoded data removed]",
            "text/plain": [
              "<PIL.Image.Image image mode=L size=28x28 at 0x7FB77FDBB198>"
            ]
          },
          "metadata": {
            "tags": []
          },
          "execution_count": 68
        }
      ]
    },
    {
      "cell_type": "code",
      "metadata": {
        "id": "OCq5qjz5F-F-",
        "colab_type": "code",
        "outputId": "15b3a70b-3b60-4417-f826-2fddea965090",
        "colab": {
          "base_uri": "https://localhost:8080/",
          "height": 45
        }
      },
      "source": [
        "generate_digit(generator, 3)"
      ],
      "execution_count": 0,
      "outputs": [
        {
          "output_type": "execute_result",
          "data": {
            "image/png": "[encoded data removed]",
            "text/plain": [
              "<PIL.Image.Image image mode=L size=28x28 at 0x7FB77FDBBF60>"
            ]
          },
          "metadata": {
            "tags": []
          },
          "execution_count": 69
        }
      ]
    },
    {
      "cell_type": "code",
      "metadata": {
        "id": "CPY-XA_UF-nc",
        "colab_type": "code",
        "outputId": "53519f3c-410d-4f27-dd28-a2fa94f9655b",
        "colab": {
          "base_uri": "https://localhost:8080/",
          "height": 45
        }
      },
      "source": [
        "generate_digit(generator, 4)"
      ],
      "execution_count": 0,
      "outputs": [
        {
          "output_type": "execute_result",
          "data": {
            "image/png": "[encoded data removed]",
            "text/plain": [
              "<PIL.Image.Image image mode=L size=28x28 at 0x7FB77FDB39B0>"
            ]
          },
          "metadata": {
            "tags": []
          },
          "execution_count": 70
        }
      ]
    },
    {
      "cell_type": "code",
      "metadata": {
        "id": "yyjbP4HDF_Wc",
        "colab_type": "code",
        "outputId": "46951f8b-3f1b-4b4e-e530-fb9d1d003530",
        "colab": {
          "base_uri": "https://localhost:8080/",
          "height": 45
        }
      },
      "source": [
        "generate_digit(generator, 5)"
      ],
      "execution_count": 0,
      "outputs": [
        {
          "output_type": "execute_result",
          "data": {
            "image/png": "[encoded data removed]",
            "text/plain": [
              "<PIL.Image.Image image mode=L size=28x28 at 0x7FB77FDB3940>"
            ]
          },
          "metadata": {
            "tags": []
          },
          "execution_count": 71
        }
      ]
    },
    {
      "cell_type": "code",
      "metadata": {
        "id": "qRuDGGk_F_8P",
        "colab_type": "code",
        "outputId": "239c8140-c31d-4e2b-d9d2-de956ce9b79f",
        "colab": {
          "base_uri": "https://localhost:8080/",
          "height": 45
        }
      },
      "source": [
        "generate_digit(generator, 6)"
      ],
      "execution_count": 0,
      "outputs": [
        {
          "output_type": "execute_result",
          "data": {
            "image/png": "[encoded data removed]",
            "text/plain": [
              "<PIL.Image.Image image mode=L size=28x28 at 0x7FB77FDB36D8>"
            ]
          },
          "metadata": {
            "tags": []
          },
          "execution_count": 72
        }
      ]
    },
    {
      "cell_type": "code",
      "metadata": {
        "id": "g9LO4L7ZGAix",
        "colab_type": "code",
        "outputId": "3d13f7cf-61d4-42bb-bd7d-0d29feb0c622",
        "colab": {
          "base_uri": "https://localhost:8080/",
          "height": 45
        }
      },
      "source": [
        "generate_digit(generator, 7)"
      ],
      "execution_count": 0,
      "outputs": [
        {
          "output_type": "execute_result",
          "data": {
            "image/png": "[encoded data removed]",
            "text/plain": [
              "<PIL.Image.Image image mode=L size=28x28 at 0x7FB77FDB3828>"
            ]
          },
          "metadata": {
            "tags": []
          },
          "execution_count": 73
        }
      ]
    },
    {
      "cell_type": "code",
      "metadata": {
        "id": "tVg2FYOxGBK3",
        "colab_type": "code",
        "outputId": "f98d1838-e0cf-4784-b250-8e98b1c867b6",
        "colab": {
          "base_uri": "https://localhost:8080/",
          "height": 45
        }
      },
      "source": [
        "generate_digit(generator, 8)"
      ],
      "execution_count": 0,
      "outputs": [
        {
          "output_type": "execute_result",
          "data": {
            "image/png": "[encoded data removed]",
            "text/plain": [
              "<PIL.Image.Image image mode=L size=28x28 at 0x7FB77FE4AB38>"
            ]
          },
          "metadata": {
            "tags": []
          },
          "execution_count": 74
        }
      ]
    },
    {
      "cell_type": "code",
      "metadata": {
        "id": "fLDr6QwMGBuT",
        "colab_type": "code",
        "outputId": "3e412b5c-2648-499a-f375-ed11e6aae97a",
        "colab": {
          "base_uri": "https://localhost:8080/",
          "height": 45
        }
      },
      "source": [
        "generate_digit(generator, 9)"
      ],
      "execution_count": 0,
      "outputs": [
        {
          "output_type": "execute_result",
          "data": {
            "image/png": "[encoded data removed]",
            "text/plain": [
              "<PIL.Image.Image image mode=L size=28x28 at 0x7FB77FD5EC50>"
            ]
          },
          "metadata": {
            "tags": []
          },
          "execution_count": 75
        }
      ]
    }
  ]
}