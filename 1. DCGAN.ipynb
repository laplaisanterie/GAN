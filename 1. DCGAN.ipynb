{
  "nbformat": 4,
  "nbformat_minor": 0,
  "metadata": {
    "colab": {
      "name": "6. DCGAN.ipynb",
      "version": "0.3.2",
      "provenance": [],
      "collapsed_sections": [],
      "include_colab_link": true
    },
    "kernelspec": {
      "name": "python3",
      "display_name": "Python 3"
    },
    "accelerator": "GPU"
  },
  "cells": [
    {
      "cell_type": "markdown",
      "metadata": {
        "id": "view-in-github",
        "colab_type": "text"
      },
      "source": [
        "<a href=\"https://colab.research.google.com/github/laplaisanterie/GAN/blob/master/1.%20DCGAN.ipynb\" target=\"_parent\"><img src=\"https://colab.research.google.com/assets/colab-badge.svg\" alt=\"Open In Colab\"/></a>"
      ]
    },
    {
      "cell_type": "code",
      "metadata": {
        "id": "EDwFLQ_x1s7e",
        "colab_type": "code",
        "colab": {}
      },
      "source": [
        "from google.colab import drive\n",
        "drive.mount('/content/gdrive')"
      ],
      "execution_count": 0,
      "outputs": []
    },
    {
      "cell_type": "code",
      "metadata": {
        "id": "Gp1kkOVo10cw",
        "colab_type": "code",
        "colab": {}
      },
      "source": [
        "cd gdrive/My Drive/DL"
      ],
      "execution_count": 0,
      "outputs": []
    },
    {
      "cell_type": "code",
      "metadata": {
        "id": "0SX2PwPEABv7",
        "colab_type": "code",
        "colab": {}
      },
      "source": [
        "import os\n",
        "import torch\n",
        "import torch.nn as nn\n",
        "from torch.optim import Adam\n",
        "from torchvision import datasets, transforms\n",
        "from torch.utils.data import DataLoader\n",
        "from torch.autograd import Variable"
      ],
      "execution_count": 0,
      "outputs": []
    },
    {
      "cell_type": "code",
      "metadata": {
        "id": "97pvlnabfPoc",
        "colab_type": "code",
        "colab": {}
      },
      "source": [
        "import torchvision.utils as vutils\n",
        "import numpy as np\n",
        "import matplotlib.pyplot as plt\n",
        "from matplotlib.pyplot import imshow\n",
        "import matplotlib.animation as animation\n",
        "%matplotlib inline"
      ],
      "execution_count": 0,
      "outputs": []
    },
    {
      "cell_type": "code",
      "metadata": {
        "id": "GXy0Bayc5YPK",
        "colab_type": "code",
        "colab": {}
      },
      "source": [
        "trans = transforms.Compose([\n",
        "    transforms.Resize((64,64)),\n",
        "    transforms.ToTensor(),\n",
        "    transforms.Normalize(mean=(0.5,), std=(0.5,))\n",
        "])\n",
        "train_data = datasets.ImageFolder(root='Car', transform=trans)\n",
        "dataloader = DataLoader(train_data, batch_size=8, shuffle=True)"
      ],
      "execution_count": 0,
      "outputs": []
    },
    {
      "cell_type": "code",
      "metadata": {
        "id": "CSYfKcPC9a8b",
        "colab_type": "code",
        "colab": {}
      },
      "source": [
        "import imageio\n",
        "\n",
        "if torch.cuda.is_available(): use_gpu = True\n",
        "    \n",
        "leave_log = True\n",
        "\n",
        "if leave_log:\n",
        "    result_dir = 'DCGAN_generated_images'\n",
        "    if not os.path.isdir(result_dir):\n",
        "        os.mkdir(result_dir)"
      ],
      "execution_count": 0,
      "outputs": []
    },
    {
      "cell_type": "code",
      "metadata": {
        "id": "PezulOg7WpzU",
        "colab_type": "code",
        "colab": {}
      },
      "source": [
        "# Number of channels in the training images. For color images this is 3\n",
        "nc = 3\n",
        "\n",
        "# Size of z latent vector (i.e. size of generator input)\n",
        "nz = 100\n",
        "\n",
        "# Size of feature maps in generator\n",
        "ngf = 64\n",
        "\n",
        "# Size of feature maps in discriminator\n",
        "ndf = 64\n",
        "\n",
        "# Number of GPUs available. Use 0 for CPU mode.\n",
        "ngpu = 1"
      ],
      "execution_count": 0,
      "outputs": []
    },
    {
      "cell_type": "code",
      "metadata": {
        "id": "uv2UcejA-e98",
        "colab_type": "code",
        "colab": {}
      },
      "source": [
        "# Generator Code\n",
        "\n",
        "class Generator(nn.Module):\n",
        "    def __init__(self):\n",
        "        super(Generator, self).__init__()\n",
        "        self.main = nn.Sequential(\n",
        "            # input is Z, going into a convolution\n",
        "            nn.ConvTranspose2d( nz, ngf * 8, 4, 1, 0, bias=False),\n",
        "            nn.BatchNorm2d(ngf * 8),\n",
        "            nn.ReLU(True),\n",
        "            # state size. (ngf*8) x 4 x 4\n",
        "            nn.ConvTranspose2d(ngf * 8, ngf * 4, 4, 2, 1, bias=False),\n",
        "            nn.BatchNorm2d(ngf * 4),\n",
        "            nn.ReLU(True),\n",
        "            # state size. (ngf*4) x 8 x 8\n",
        "            nn.ConvTranspose2d( ngf * 4, ngf * 2, 4, 2, 1, bias=False),\n",
        "            nn.BatchNorm2d(ngf * 2),\n",
        "            nn.ReLU(True),\n",
        "            # state size. (ngf*2) x 16 x 16\n",
        "            nn.ConvTranspose2d( ngf * 2, ngf, 4, 2, 1, bias=False),\n",
        "            nn.BatchNorm2d(ngf),\n",
        "            nn.ReLU(True),\n",
        "            # state size. (ngf) x 32 x 32\n",
        "            nn.ConvTranspose2d( ngf, nc, 4, 2, 1, bias=False),\n",
        "            nn.Tanh()\n",
        "            # state size. (nc) x 64 x 64\n",
        "        )\n",
        "\n",
        "    def forward(self, input):\n",
        "        return self.main(input)"
      ],
      "execution_count": 0,
      "outputs": []
    },
    {
      "cell_type": "code",
      "metadata": {
        "id": "rvl2pQBt-y3a",
        "colab_type": "code",
        "colab": {}
      },
      "source": [
        "class Discriminator(nn.Module):\n",
        "    def __init__(self):\n",
        "        super(Discriminator, self).__init__()\n",
        "\n",
        "        self.main = nn.Sequential(\n",
        "            # input is (nc) x 64 x 64\n",
        "            nn.Conv2d(nc, ndf, 4, 2, 1, bias=False),\n",
        "            nn.LeakyReLU(0.2, inplace=True),\n",
        "            # state size. (ndf) x 32 x 32\n",
        "            nn.Conv2d(ndf, ndf * 2, 4, 2, 1, bias=False),\n",
        "            nn.BatchNorm2d(ndf * 2),\n",
        "            nn.LeakyReLU(0.2, inplace=True),\n",
        "            # state size. (ndf*2) x 16 x 16\n",
        "            nn.Conv2d(ndf * 2, ndf * 4, 4, 2, 1, bias=False),\n",
        "            nn.BatchNorm2d(ndf * 4),\n",
        "            nn.LeakyReLU(0.2, inplace=True),\n",
        "            # state size. (ndf*4) x 8 x 8\n",
        "            nn.Conv2d(ndf * 4, ndf * 8, 4, 2, 1, bias=False),\n",
        "            nn.BatchNorm2d(ndf * 8),\n",
        "            nn.LeakyReLU(0.2, inplace=True),\n",
        "            # state size. (ndf*8) x 4 x 4\n",
        "            nn.Conv2d(ndf * 8, 1, 4, 1, 0, bias=False),\n",
        "            nn.Sigmoid()\n",
        "        )\n",
        "\n",
        "    def forward(self, input):\n",
        "        return self.main(input)"
      ],
      "execution_count": 0,
      "outputs": []
    },
    {
      "cell_type": "code",
      "metadata": {
        "id": "K4zKxQ4O-7ch",
        "colab_type": "code",
        "colab": {}
      },
      "source": [
        "### 생성자와 구분자 객체 만들기\n",
        "G = Generator()\n",
        "D = Discriminator()\n",
        "\n",
        "if torch.cuda.is_available():\n",
        "    G.cuda()\n",
        "    D.cuda()"
      ],
      "execution_count": 0,
      "outputs": []
    },
    {
      "cell_type": "code",
      "metadata": {
        "id": "CH_7F2ew-9gq",
        "colab_type": "code",
        "colab": {}
      },
      "source": [
        "### 손실 함수와 최적화 기법 지정하기\n",
        "# Binary Cross Entropy loss\n",
        "criterion = nn.BCELoss()\n",
        "\n",
        "# 생성자의 매개 변수를 최적화하는 Adam optimizer\n",
        "G_optimizer = Adam(G.parameters(), lr=0.0005, betas=(0.5, 0.999))\n",
        "# 구분자의 매개 변수를 최적화하는 Adam optimizer\n",
        "D_optimizer = Adam(D.parameters(), lr=0.0001, betas=(0.5, 0.999))"
      ],
      "execution_count": 0,
      "outputs": []
    },
    {
      "cell_type": "code",
      "metadata": {
        "id": "l--WBq48jZzy",
        "colab_type": "code",
        "colab": {}
      },
      "source": [
        "def fix_gradient(index):\n",
        "    x = np.random.randn(64, 100, 1, 1)\n",
        "    for i in range(0,64):\n",
        "        x[i]=x[8*(i//8)]\n",
        "        x[i][index][0][0] = (i%8-4)*3.5\n",
        "        x = torch.tensor(x).float()\n",
        "        \n",
        "    return x"
      ],
      "execution_count": 0,
      "outputs": []
    },
    {
      "cell_type": "code",
      "metadata": {
        "id": "xdJ5E960_BUl",
        "colab_type": "code",
        "colab": {}
      },
      "source": [
        "# z_fixed = Variable(torch.randn(64, 100, 1, 1), volatile=True)\n",
        "z_fixed = fix_gradient(1)\n",
        "if torch.cuda.is_available(): z_fixed = z_fixed.cuda()"
      ],
      "execution_count": 0,
      "outputs": []
    },
    {
      "cell_type": "code",
      "metadata": {
        "id": "n5-p7sO0_D7J",
        "colab_type": "code",
        "colab": {}
      },
      "source": [
        "img_list = []\n",
        "### 모델 학습을 위한 반복문\n",
        "# 데이터셋을 100번 돌며 학습한다.\n",
        "for epoch in range(100):\n",
        "    \n",
        "    if leave_log:\n",
        "        D_losses = []\n",
        "        G_losses = []\n",
        "    \n",
        "    # 한번에 batch_size만큼 데이터를 가져온다.\n",
        "    for real_data, _ in dataloader:\n",
        "        batch_size = real_data.size(0)\n",
        "        \n",
        "        # 데이터를 pytorch의 변수로 변환한다.\n",
        "        real_data = Variable(real_data)\n",
        "\n",
        "        ### 구분자 학습시키기\n",
        "\n",
        "        # 이미지가 진짜일 때 정답 값은 1이고 가짜일 때는 0이다.\n",
        "        # 정답지에 해당하는 변수를 만든다.\n",
        "        target_real = Variable(torch.ones(batch_size, 1))\n",
        "        target_fake = Variable(torch.zeros(batch_size, 1))\n",
        "         \n",
        "        if torch.cuda.is_available():\n",
        "            real_data, target_real, target_fake = real_data.cuda(), target_real.cuda(), target_fake.cuda()\n",
        "            \n",
        "        # 진짜 이미지를 구분자에 넣는다.\n",
        "        D_result_from_real = D(real_data)\n",
        "        # 구분자의 출력값이 정답지인 1에서 멀수록 loss가 높아진다.\n",
        "        D_loss_real = criterion(D_result_from_real, target_real)\n",
        "\n",
        "        # 생성자에 입력으로 줄 랜덤 벡터 z를 만든다.\n",
        "        z = Variable(torch.randn((batch_size, 100, 1, 1)))\n",
        "        \n",
        "        if torch.cuda.is_available():\n",
        "            z = z.cuda()\n",
        "            \n",
        "        # 생성자로 가짜 이미지를 생성한다.\n",
        "        fake_data = G(z)\n",
        "        \n",
        "        # 생성자가 만든 가짜 이미지를 구분자에 넣는다.\n",
        "        D_result_from_fake = D(fake_data)\n",
        "        # 구분자의 출력값이 정답지인 0에서 멀수록 loss가 높아진다.\n",
        "        D_loss_fake = criterion(D_result_from_fake, target_fake)\n",
        "        \n",
        "        # 구분자의 loss는 두 문제에서 계산된 loss의 합이다.\n",
        "        D_loss = D_loss_real + D_loss_fake\n",
        "        \n",
        "        # 구분자의 매개 변수의 미분값을 0으로 초기화한다.\n",
        "        D.zero_grad()\n",
        "        # 역전파를 통해 매개 변수의 loss에 대한 미분값을 계산한다.\n",
        "        D_loss.backward()\n",
        "        # 최적화 기법을 이용해 구분자의 매개 변수를 업데이트한다.\n",
        "        D_optimizer.step()\n",
        "        \n",
        "        if leave_log:\n",
        "            D_losses.append(D_loss)\n",
        "\n",
        "        # train generator G\n",
        "\n",
        "        ### 생성자 학습시키기\n",
        "        \n",
        "        # 생성자에 입력으로 줄 랜덤 벡터 z를 만든다.\n",
        "        z = Variable(torch.randn((batch_size, 100, 1, 1)))\n",
        "        \n",
        "        if torch.cuda.is_available():\n",
        "            z = z.cuda()\n",
        "        \n",
        "        # 생성자로 가짜 이미지를 생성한다.\n",
        "        fake_data = G(z)\n",
        "        # 생성자가 만든 가짜 이미지를 구분자에 넣는다.\n",
        "        D_result_from_fake = D(fake_data)\n",
        "        # 생성자의 입장에서 구분자의 출력값이 1에서 멀수록 loss가 높아진다.\n",
        "        G_loss = criterion(D_result_from_fake, target_real)\n",
        "        \n",
        "        # 생성자의 매개 변수의 미분값을 0으로 초기화한다.\n",
        "        G.zero_grad()\n",
        "        # 역전파를 통해 매개 변수의 loss에 대한 미분값을 계산한다.\n",
        "        G_loss.backward()\n",
        "        # 최적화 기법을 이용해 생성자의 매개 변수를 업데이트한다.\n",
        "        G_optimizer.step()\n",
        "        \n",
        "        if leave_log:\n",
        "            G_losses.append(G_loss)\n",
        "            \n",
        "\n",
        "    if leave_log:\n",
        "        true_positive_rate = (D_result_from_real > 0.5).float().mean().item()\n",
        "        true_negative_rate = (D_result_from_fake < 0.5).float().mean().item()\n",
        "        base_message = (\"Epoch: {epoch:<3d} D Loss: {d_loss:<8.6} G Loss: {g_loss:<8.6} \"\n",
        "                        \"True Positive Rate: {tpr:<5.1%} True Negative Rate: {tnr:<5.1%}\"\n",
        "                       )\n",
        "        message = base_message.format(\n",
        "                    epoch=epoch,\n",
        "                    d_loss=sum(D_losses)/len(D_losses),\n",
        "                    g_loss=sum(G_losses)/len(G_losses),\n",
        "                    tpr=true_positive_rate,\n",
        "                    tnr=true_negative_rate\n",
        "        )\n",
        "        print(message)\n",
        "    \n",
        "    \n",
        "    with torch.no_grad():\n",
        "        fake = G(z_fixed).detach().cpu()\n",
        "        img_list.append(vutils.make_grid(fake, padding=2, normalize=True))\n",
        "\n",
        "\n",
        "# training된 G와D를 저장한다.\n",
        "torch.save(G.state_dict(), \"dcgan_generator.pkl\")\n",
        "torch.save(D.state_dict(), \"dcgan_discriminator.pkl\")"
      ],
      "execution_count": 0,
      "outputs": []
    },
    {
      "cell_type": "code",
      "metadata": {
        "id": "ywpnOs6SfVTb",
        "colab_type": "code",
        "colab": {}
      },
      "source": [
        "# epoch마다 생성한 이미지를 폴더에 저장하자\n",
        "fig = plt.figure(figsize=(8,8))\n",
        "plt.axis(\"off\")\n",
        "\n",
        "for i in range(len(img_list)):\n",
        "    plt.imshow(np.transpose(img_list[i], (1,2,0)), animated=True)\n",
        "    plt.savefig(result_dir + '/epoch{}.png'.format(i+1))\n",
        "    \n",
        "    \n",
        "    \n",
        "# ims=[]\n",
        "# for i in img_list:\n",
        "#     if i%10==0:\n",
        "#         ims.append(plt.imshow(np.transpose(i,(1,2,0)), animated=True))\n",
        "\n",
        "# ani = animation.ArtistAnimation(fig, ims, interval=1000, repeat_delay=1000, blit=True)   \n",
        "\n",
        "# HTML(ani.to_jshtml())\n",
        "    \n",
        "# ims = [[plt.imshow(np.transpose(i,(1,2,0)), animated=True)] for i in img_list]\n",
        "# ani = animation.ArtistAnimation(fig, ims, interval=1000, repeat_delay=1000, blit=True)\n",
        "# HTML(ani.to_jshtml())"
      ],
      "execution_count": 0,
      "outputs": []
    }
  ]
}